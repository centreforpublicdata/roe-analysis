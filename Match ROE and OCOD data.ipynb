{
 "cells": [
  {
   "cell_type": "markdown",
   "id": "486e512d",
   "metadata": {},
   "source": [
    "# Join the Register of Overseas Entities companies to HMLR titles registered to overseas companies\n",
    "\n",
    "Notebook to join the new [Register of Overseas Entities data](XXXX) to HM Land Registry titles registered to overseas companies. \n",
    "\n",
    "This isn't straightforward because (inexplicably) CoHouse haven't asked the ROE entries to specify their registered titles, and HMLR don't yet have the ROE identifier in their data, so we need to join fuzzily based on company name.  \n",
    "\n",
    "Nevertheless we can match a reasonable number of titles - though anything matched should be double-checked. \n",
    "\n",
    "Last run at the start of January 2023. \n",
    "\n",
    "**How to use**\n",
    "\n",
    "You'll need the following datasets in BigQuery (or contact me if you want to take a copy of ours):\n",
    "\n",
    "- HM Land Registry [Overseas companies that own property in England and Wales](https://use-land-property-data.service.gov.uk/datasets/ocod).\n",
    "- Companies House [Basic Companies Data](http://download.companieshouse.gov.uk/en_output.html)\n",
    "- Companies House [Persons of Significant Control](http://download.companieshouse.gov.uk/en_pscdata.html) (PSC)\n",
    "\n",
    "Update the constants below with your own BigQuery project ID and table names.\n",
    "\n",
    "**TODO**\n",
    "\n",
    "- Clarify: HMLR records legal title and ROE is about beneficial title, so it's possible the two won't be exactly the same?"
   ]
  },
  {
   "cell_type": "code",
   "execution_count": 68,
   "id": "f89b2ba7",
   "metadata": {},
   "outputs": [],
   "source": [
    "import os\n",
    "import pandas as pd\n",
    "import pandas_gbq"
   ]
  },
  {
   "cell_type": "code",
   "execution_count": 69,
   "id": "6852bbac",
   "metadata": {},
   "outputs": [],
   "source": [
    "PROJECT_ID = os.getenv('BQ_PROJECT_ID')\n",
    "OCOD_TABLE = \"ocod.ocod_2023_01\"\n",
    "CH_BASIC_TABLE = \"co_house.basic_2023_01\"\n",
    "CH_PSCS_TABLE = \"co_house.pscs_2023_01\""
   ]
  },
  {
   "cell_type": "markdown",
   "id": "5e315b17",
   "metadata": {},
   "source": [
    "## Basic numbers"
   ]
  },
  {
   "cell_type": "markdown",
   "id": "737f0612",
   "metadata": {},
   "source": [
    "First let's look at the HMLR overseas companies data.\n",
    "\n",
    "There are 92,772 titles registered at HMLR as belonging to overseas companies. Of these, 90,725 were added after January 1999 and therefore would normally be expected to be registered on ROE. These titles belong to 30,413 unique companies, so that's our baseline for how many companies we will expect to see on the ROE register by the end of January.\n",
    "\n",
    "For comparison, on past runs:\n",
    "\n",
    "- on Nov 21 2022, there were 2609 companies registered."
   ]
  },
  {
   "cell_type": "code",
   "execution_count": null,
   "id": "6426e356",
   "metadata": {},
   "outputs": [],
   "source": [
    "sql = \"SELECT * FROM `%s.%s`\" % (PROJECT_ID, OCOD_TABLE)\n",
    "df_titles = pandas_gbq.read_gbq(sql, project_id=PROJECT_ID, progress_bar_type=None)\n",
    "len(df_titles)"
   ]
  },
  {
   "cell_type": "code",
   "execution_count": null,
   "id": "ccae5491",
   "metadata": {},
   "outputs": [],
   "source": [
    "df_titles.date_proprietor_added = pd.to_datetime(df_titles.date_proprietor_added)\n",
    "df_relevant_titles = df_titles.query(\"date_proprietor_added >= '1999-01-01'\")\n",
    "print(len(df_relevant_titles))\n",
    "print(df_relevant_titles.proprietor_name_1.nunique())"
   ]
  },
  {
   "cell_type": "markdown",
   "id": "b48bdf5e",
   "metadata": {},
   "source": [
    "Now let's look at the Companies House data, which tells us about the companies now on the ROE register, and their beneficial owners (persons of significant control, or PSCs).\n",
    "\n",
    "At the start of January, there were 9,994 companies with an `OE*` identifier in the Companies House Basic Company Data."
   ]
  },
  {
   "cell_type": "code",
   "execution_count": null,
   "id": "f85638bd",
   "metadata": {},
   "outputs": [],
   "source": [
    "sql = \"SELECT * FROM `%s.%s` where companynumber LIKE 'OE%%'\" % (PROJECT_ID, CH_BASIC_TABLE)\n",
    "df_companies = pandas_gbq.read_gbq(sql, project_id=PROJECT_ID, progress_bar_type=None)\n",
    "len(df_companies)"
   ]
  },
  {
   "cell_type": "markdown",
   "id": "95c7a4d2",
   "metadata": {},
   "source": [
    "And there are currently 32,570 PSCs in the PSC data with an `OE*` company number. Of these all but about 400 can be joined to companies in the Basic data - so the CoHouse basic and PSC ROE entries are roughly in sync. \n",
    "\n",
    "For comparison, on past runs:\n",
    "\n",
    "- on Nov 21 2022, there were 9593 PSCs registered."
   ]
  },
  {
   "cell_type": "code",
   "execution_count": null,
   "id": "007e184e",
   "metadata": {},
   "outputs": [],
   "source": [
    "sql = \"\"\"\n",
    "SELECT *\n",
    "FROM `%s.co_house.pscs_2023_01` \n",
    "WHERE  company_number LIKE 'OE%%'\n",
    "ORDER BY company_number DESC\n",
    "\"\"\" % PROJECT_ID\n",
    "df_pscs = pandas_gbq.read_gbq(sql, project_id=PROJECT_ID, progress_bar_type=None)\n",
    "len(df_pscs)"
   ]
  },
  {
   "cell_type": "code",
   "execution_count": null,
   "id": "3544f5a6",
   "metadata": {},
   "outputs": [],
   "source": [
    "sql = \"\"\"\n",
    "SELECT\n",
    "  pscs.*, companies.*\n",
    "FROM\n",
    "  `%s.%s` AS pscs \n",
    "INNER JOIN\n",
    "  `%s.%s` AS companies\n",
    "ON\n",
    "  companies.company_number=pscs.companynumber\n",
    "WHERE\n",
    "  pscs.companynumber LIKE 'OE%%'\n",
    "\"\"\" % (PROJECT_ID, CH_BASIC_TABLE, PROJECT_ID, CH_PSCS_TABLE)\n",
    "df_pscs_with_companies = pandas_gbq.read_gbq(sql, project_id=PROJECT_ID, progress_bar_type=None)\n",
    "len(df_pscs_with_companies)"
   ]
  },
  {
   "cell_type": "markdown",
   "id": "cffafa17",
   "metadata": {},
   "source": [
    "## Link the two datasets, and look at the coverage"
   ]
  },
  {
   "cell_type": "markdown",
   "id": "d4ad242a",
   "metadata": {},
   "source": [
    "Now we attempt to see how well the CoHouse and HMLR datasets can be matched up. \n",
    "\n",
    "First: how many of our 90k OCOD titles can be linked to a ROE company on direct name match?\n",
    "\n",
    "The answer is 26,069, so just under 30%.\n",
    "\n",
    "Second: what happens if we try to match on company name _and_ country name? This produces 20,000 results. Eyeballing the difference suggests that almost all of the delta actually match on country anyway, just the country-names are messy and incompatible between the two datasets. \n",
    "\n",
    "So there are probably some false matches in this 26,069, but not loads."
   ]
  },
  {
   "cell_type": "code",
   "execution_count": null,
   "id": "27db1fd3",
   "metadata": {},
   "outputs": [],
   "source": [
    "sql = \"\"\"\n",
    "SELECT\n",
    "  companies.*,  ocod.*\n",
    "FROM\n",
    "  `%s.%s` AS companies\n",
    "INNER JOIN\n",
    "  `%s.%s` AS ocod\n",
    "ON\n",
    "  ocod.proprietor_name_1=companies.companyname\n",
    "  -- AND ocod.country_incorporated_1=companies.countryoforigin\n",
    "WHERE\n",
    "  companies.companynumber LIKE 'OE%%'\n",
    "\"\"\" % (PROJECT_ID, CH_BASIC_TABLE, PROJECT_ID, OCOD_TABLE)\n",
    "df_titles_joined = pandas_gbq.read_gbq(sql, project_id=PROJECT_ID, progress_bar_type=None)\n",
    "len(df_titles_joined)"
   ]
  },
  {
   "cell_type": "markdown",
   "id": "9a57907d",
   "metadata": {},
   "source": [
    "Eyeball the matched results. "
   ]
  },
  {
   "cell_type": "code",
   "execution_count": null,
   "id": "a689185b",
   "metadata": {},
   "outputs": [],
   "source": [
    "cols = ['companyname', 'companynumber', 'regaddresscounty', 'regaddresscountry', \n",
    "        'title_number', 'property_address', 'country_incorporated_1']\n",
    "df_titles_joined.head()[cols]"
   ]
  },
  {
   "cell_type": "markdown",
   "id": "643dc3ac",
   "metadata": {},
   "source": [
    "Experiment with ways to make country matching better."
   ]
  },
  {
   "cell_type": "code",
   "execution_count": null,
   "id": "58051ce8",
   "metadata": {},
   "outputs": [],
   "source": [
    "# Try tidying  up some of the country names so they match across the two datasets.\n",
    "df_titles_joined.regaddresscountry = \\\n",
    "    df_titles_joined.regaddresscountry.str.replace(\"VIRGIN ISLANDS, BRITISH\", \"BRITISH VIRGIN ISLANDS\")\n",
    "df_titles_joined.regaddresscountry = \\\n",
    "    df_titles_joined.regaddresscountry.str.replace(\"SAINT \", \"ST \")"
   ]
  },
  {
   "cell_type": "code",
   "execution_count": null,
   "id": "ea866819",
   "metadata": {},
   "outputs": [],
   "source": [
    "# Try matching by country on regaddresscounty as well as country, as the fields seem to be used interchangeably.\n",
    "# That improvees things a bit.\n",
    "df_unmatched = df_titles_joined\\\n",
    "    .query(\"regaddresscountry != country_incorporated_1 & regaddresscounty != country_incorporated_1\")\n",
    "len(df_unmatched)"
   ]
  },
  {
   "cell_type": "code",
   "execution_count": null,
   "id": "595a6b2c",
   "metadata": {},
   "outputs": [],
   "source": [
    "df_unmatched[cols]"
   ]
  },
  {
   "cell_type": "markdown",
   "id": "629055ba",
   "metadata": {},
   "source": [
    "## How many of our ROE entries have we been able to find titles for?"
   ]
  },
  {
   "cell_type": "markdown",
   "id": "7bc9decc",
   "metadata": {},
   "source": [
    "In these matched titles, we have 6,422 unique company names - so that's about two-thirds of all the ROE companies in the basic data.\n",
    "\n",
    "That suggests this matching isn't that great, because we should be able to find an OCOD entry for every ROE company. \n",
    "\n",
    "More work needed!"
   ]
  },
  {
   "cell_type": "code",
   "execution_count": 61,
   "id": "14a16ede",
   "metadata": {},
   "outputs": [
    {
     "data": {
      "text/plain": [
       "6422"
      ]
     },
     "execution_count": 61,
     "metadata": {},
     "output_type": "execute_result"
    }
   ],
   "source": [
    "df_titles_joined.companynumber.nunique()"
   ]
  },
  {
   "cell_type": "markdown",
   "id": "e766cefa",
   "metadata": {},
   "source": [
    "## Join ROE companies with PSC information and related OCOD titles\n",
    "\n",
    "Get a list of titles per PSC with any related company and OCOD information that we can match, and save to a file."
   ]
  },
  {
   "cell_type": "code",
   "execution_count": 62,
   "id": "588e6815",
   "metadata": {},
   "outputs": [],
   "source": [
    "sql = \"\"\"\n",
    "SELECT\n",
    "  companies.*,  ocod.*, pscs.*\n",
    "FROM\n",
    "  `%s.%s` AS companies\n",
    "INNER JOIN\n",
    "  `%s.%s` AS pscs\n",
    "ON\n",
    "  companies.companynumber=pscs.company_number\n",
    "LEFT JOIN\n",
    "  `%s.%s` AS ocod\n",
    "ON\n",
    "  ocod.country_incorporated_1=companies.countryoforigin\n",
    "  AND ocod.proprietor_name_1=companies.companyname\n",
    "WHERE\n",
    "  companies.companynumber LIKE 'OE%%'\n",
    "\"\"\" % (PROJECT_ID, CH_BASIC_TABLE, PROJECT_ID, CH_PSCS_TABLE, PROJECT_ID, OCOD_TABLE)"
   ]
  },
  {
   "cell_type": "code",
   "execution_count": 63,
   "id": "9d94d300",
   "metadata": {},
   "outputs": [
    {
     "data": {
      "text/plain": [
       "85754"
      ]
     },
     "execution_count": 63,
     "metadata": {},
     "output_type": "execute_result"
    }
   ],
   "source": [
    "df_pscs_with_companies = pandas_gbq.read_gbq(sql, project_id=PROJECT_ID, progress_bar_type=None)\n",
    "len(df_pscs_with_companies)"
   ]
  },
  {
   "cell_type": "code",
   "execution_count": 64,
   "id": "e76d0259",
   "metadata": {},
   "outputs": [],
   "source": [
    "df_pscs_with_companies.to_csv(\"./data/roe_pscs_with_companies_and_any_matched_titles.csv\", index=False)"
   ]
  },
  {
   "cell_type": "code",
   "execution_count": null,
   "id": "23aa6316",
   "metadata": {},
   "outputs": [],
   "source": []
  },
  {
   "cell_type": "code",
   "execution_count": null,
   "id": "03cc4186",
   "metadata": {},
   "outputs": [],
   "source": []
  },
  {
   "cell_type": "code",
   "execution_count": null,
   "id": "cd41c2d3",
   "metadata": {},
   "outputs": [],
   "source": []
  }
 ],
 "metadata": {
  "kernelspec": {
   "display_name": "Python 3 (ipykernel)",
   "language": "python",
   "name": "python3"
  },
  "language_info": {
   "codemirror_mode": {
    "name": "ipython",
    "version": 3
   },
   "file_extension": ".py",
   "mimetype": "text/x-python",
   "name": "python",
   "nbconvert_exporter": "python",
   "pygments_lexer": "ipython3",
   "version": "3.9.6"
  }
 },
 "nbformat": 4,
 "nbformat_minor": 5
}
