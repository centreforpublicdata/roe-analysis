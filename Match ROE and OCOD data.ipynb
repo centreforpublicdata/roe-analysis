{
 "cells": [
  {
   "cell_type": "markdown",
   "id": "486e512d",
   "metadata": {},
   "source": [
    "# Join the Register of Overseas Entities companies to HMLR titles registered to overseas companies\n",
    "\n",
    "Notebook to join the new [Register of Overseas Entities data](https://find-and-update.company-information.service.gov.uk/advanced-search/get-results?companyNameIncludes=&companyNameExcludes=&registeredOfficeAddress=&incorporationFromDay=&incorporationFromMonth=&incorporationFromYear=&incorporationToDay=&incorporationToMonth=&incorporationToYear=&sicCodes=&type=registered-overseas-entity&dissolvedFromDay=&dissolvedFromMonth=&dissolvedFromYear=&dissolvedToDay=&dissolvedToMonth=&dissolvedToYear=) to HM Land Registry (HMLR) titles registered to overseas companies. \n",
    "\n",
    "In other words, to join the beneficial owners of property in England & Wales that is owned by an overseas company, with the details of the property they own, where possible \n",
    "\n",
    "Joining these two datasets isn't totally straightforward because Companies House hasn't yet asked ROE entities to specify their registered titles, and HMLR doesn't yet include the ROE identifier in its own data, so we need to join fuzzily based on company name.  \n",
    "\n",
    "Nevertheless we can match a reasonable number of titles - though anything matched should be double-checked. \n",
    "\n",
    "This notebook was first run in November 2022, and most recently at the start of February 2023.\n",
    "\n",
    "**How to use**\n",
    "\n",
    "1. Make sure you have the latest versions of the following datasets loaded into Google BigQuery (or contact anna@centreforpublicdata.org if you want to take a copy of our BigQuery datasets):\n",
    "\n",
    "- HM Land Registry [Overseas companies that own property in England and Wales](https://use-land-property-data.service.gov.uk/datasets/ocod).\n",
    "- Companies House [Basic Companies Data](http://download.companieshouse.gov.uk/en_output.html)\n",
    "- Companies House [Persons of Significant Control](http://download.companieshouse.gov.uk/en_pscdata.html) (PSC)\n",
    "\n",
    "2. Update the constants below with your own BigQuery project ID and table names.\n",
    "\n",
    "3. Enjoy!\n",
    "\n",
    "**Please use any matched data responsibly, and don't republish or map data without removing residential properties.**\n",
    "\n",
    "**Notes for users**\n",
    "\n",
    "- Be aware that HMLR records legal title to property, and ROE is about beneficial title. So there is a conceptual difference between the two datasets.\n",
    "\n",
    "**Attribution and contacts**\n",
    "- This work is released under CC-BY-SA. If you publish work based on it, please attribute the Centre for Public Data and link to this GitHub repo.\n",
    "- Please contact anna@centreforpublicdata.org with any questions or for a copy of the raw data."
   ]
  },
  {
   "cell_type": "code",
   "execution_count": 16,
   "id": "f89b2ba7",
   "metadata": {},
   "outputs": [],
   "source": [
    "import os\n",
    "import pandas as pd\n",
    "import pandas_gbq"
   ]
  },
  {
   "cell_type": "code",
   "execution_count": 17,
   "id": "6852bbac",
   "metadata": {},
   "outputs": [],
   "source": [
    "PROJECT_ID = os.getenv('BQ_LR_PROJECT_ID')\n",
    "OCOD_TABLE = \"ocod.ocod_2023_01\"\n",
    "CH_BASIC_TABLE = \"co_house.basic_2023_02\"\n",
    "CH_PSCS_TABLE = \"co_house.pscs_2023_02\""
   ]
  },
  {
   "cell_type": "markdown",
   "id": "5e315b17",
   "metadata": {},
   "source": [
    "## Baseline data: number of overseas companies registered as owning titles in E&W"
   ]
  },
  {
   "cell_type": "markdown",
   "id": "2c1ba52c",
   "metadata": {},
   "source": [
    "First let's look at the HMLR overseas companies data. This is our data source for titles that are directly owned by overseas companies. \n",
    "\n",
    "As of 1 February 2022 there are 92,772 titles registered at HMLR as belonging to overseas companies. Of these, 90,725 were added after January 1999 and therefore would be expected to be affected by ROE. These titles belong to 30,413 unique companies, so that's the baseline for how many companies we expect to see on the ROE register by the registration deadline of end January 2023."
   ]
  },
  {
   "cell_type": "code",
   "execution_count": 18,
   "id": "6426e356",
   "metadata": {},
   "outputs": [
    {
     "data": {
      "text/plain": [
       "92772"
      ]
     },
     "execution_count": 18,
     "metadata": {},
     "output_type": "execute_result"
    }
   ],
   "source": [
    "sql = \"SELECT * FROM `%s.%s`\" % (PROJECT_ID, OCOD_TABLE)\n",
    "df_titles = pandas_gbq.read_gbq(sql, project_id=PROJECT_ID, progress_bar_type=None)\n",
    "len(df_titles)"
   ]
  },
  {
   "cell_type": "code",
   "execution_count": 19,
   "id": "ccae5491",
   "metadata": {},
   "outputs": [
    {
     "name": "stdout",
     "output_type": "stream",
     "text": [
      "90725\n",
      "30413\n"
     ]
    }
   ],
   "source": [
    "df_titles.date_proprietor_added = pd.to_datetime(df_titles.date_proprietor_added)\n",
    "df_relevant_titles = df_titles.query(\"date_proprietor_added >= '1999-01-01'\")\n",
    "print(len(df_relevant_titles))\n",
    "print(df_relevant_titles.proprietor_name_1.nunique())"
   ]
  },
  {
   "cell_type": "markdown",
   "id": "2d22a860",
   "metadata": {},
   "source": [
    "## Baseline data: number of beneficially-owning entities registered in ROE\n",
    "\n",
    "Now let's look at the Companies House data, which tells us about the companies now on the ROE register, and their beneficial owners (persons of significant control, or PSCs).\n",
    "\n",
    "At the start of February, there were 19,790 companies with an `OE*` identifier in the Companies House Basic Company Data. Quite a few less than the 30,413 above - though Companies House says there are another 5,000 or so in the pipeline.\n",
    "\n",
    "For comparison, on past runs:\n",
    "\n",
    "- at the start of January, there were 9,994 companies\n",
    "- on Nov 21 2022, there were 2,609 companies."
   ]
  },
  {
   "cell_type": "code",
   "execution_count": 20,
   "id": "f85638bd",
   "metadata": {},
   "outputs": [
    {
     "data": {
      "text/plain": [
       "19790"
      ]
     },
     "execution_count": 20,
     "metadata": {},
     "output_type": "execute_result"
    }
   ],
   "source": [
    "sql = \"SELECT * FROM `%s.%s` where companynumber LIKE 'OE%%'\" % (PROJECT_ID, CH_BASIC_TABLE)\n",
    "df_companies = pandas_gbq.read_gbq(sql, project_id=PROJECT_ID, progress_bar_type=None)\n",
    "len(df_companies)"
   ]
  },
  {
   "cell_type": "markdown",
   "id": "dc127eca",
   "metadata": {},
   "source": [
    "And there are currently 78,185 PSCs in the CoHouse PSC data with an `OE*` company number. Of these, all but 2 can be joined to companies in the CoHouse Basic data - so the CoHouse Basic data and PSC data are basically in sync. \n",
    "\n",
    "For comparison, on past runs:\n",
    "\n",
    "- at the start of January, there were 32,570 PSCs (and all but about 400 could be joined to companies)\n",
    "- on Nov 21 2022, there were 9593 PSCs registered."
   ]
  },
  {
   "cell_type": "code",
   "execution_count": 21,
   "id": "007e184e",
   "metadata": {},
   "outputs": [
    {
     "data": {
      "text/plain": [
       "78185"
      ]
     },
     "execution_count": 21,
     "metadata": {},
     "output_type": "execute_result"
    }
   ],
   "source": [
    "sql = \"\"\"\n",
    "SELECT *\n",
    "FROM `%s.%s` \n",
    "WHERE  company_number LIKE 'OE%%'\n",
    "ORDER BY company_number DESC\n",
    "\"\"\" % (PROJECT_ID, CH_PSCS_TABLE)\n",
    "df_pscs = pandas_gbq.read_gbq(sql, project_id=PROJECT_ID, progress_bar_type=None)\n",
    "len(df_pscs)"
   ]
  },
  {
   "cell_type": "code",
   "execution_count": 22,
   "id": "6e1d8d60",
   "metadata": {},
   "outputs": [
    {
     "data": {
      "text/plain": [
       "78183"
      ]
     },
     "execution_count": 22,
     "metadata": {},
     "output_type": "execute_result"
    }
   ],
   "source": [
    "sql = \"\"\"\n",
    "SELECT\n",
    "  pscs.*, companies.*\n",
    "FROM\n",
    "  `%s.%s` AS pscs \n",
    "INNER JOIN\n",
    "  `%s.%s` AS companies\n",
    "ON\n",
    "  companies.company_number=pscs.companynumber\n",
    "WHERE\n",
    "  pscs.companynumber LIKE 'OE%%'\n",
    "\"\"\" % (PROJECT_ID, CH_BASIC_TABLE, PROJECT_ID, CH_PSCS_TABLE)\n",
    "df_pscs_with_companies = pandas_gbq.read_gbq(sql, project_id=PROJECT_ID, progress_bar_type=None)\n",
    "len(df_pscs_with_companies)"
   ]
  },
  {
   "cell_type": "markdown",
   "id": "cffafa17",
   "metadata": {},
   "source": [
    "## Link the two datasets, and look at the coverage"
   ]
  },
  {
   "cell_type": "markdown",
   "id": "0d19c294",
   "metadata": {},
   "source": [
    "Now we will see how well the CoHouse and HMLR datasets can be matched up. \n",
    "\n",
    "First: if we attempt to match our 90,725 OCOD titles to a ROE entity on direct name match alone, we end up with 49,614 titles - so a match rate of about 55%.\n",
    "\n",
    "This is over-matched though, because there will be some companies that just happen to have the same names.\n",
    "\n",
    "(NB, at the start of Jan there were 26,069 matched titles, so things have improved quite a bit.)"
   ]
  },
  {
   "cell_type": "code",
   "execution_count": 23,
   "id": "27db1fd3",
   "metadata": {},
   "outputs": [
    {
     "data": {
      "text/plain": [
       "49614"
      ]
     },
     "execution_count": 23,
     "metadata": {},
     "output_type": "execute_result"
    }
   ],
   "source": [
    "sql = \"\"\"\n",
    "SELECT\n",
    "  companies.*,  ocod.*\n",
    "FROM\n",
    "  `%s.%s` AS companies\n",
    "INNER JOIN\n",
    "  `%s.%s` AS ocod\n",
    "ON\n",
    "  ocod.proprietor_name_1=companies.companyname \n",
    "  -- TODO: Add these in future. \n",
    "  -- OR ocod.proprietor_name_2=companies.companyname\n",
    "  -- OR ocod.proprietor_name_3=companies.companyname\n",
    "  -- OR ocod.proprietor_name_4=companies.companyname\n",
    "WHERE\n",
    "  companies.companynumber LIKE 'OE%%'\n",
    "\"\"\" % (PROJECT_ID, CH_BASIC_TABLE, PROJECT_ID, OCOD_TABLE)\n",
    "df_titles_joined = pandas_gbq.read_gbq(sql, project_id=PROJECT_ID, progress_bar_type=None)\n",
    "len(df_titles_joined)"
   ]
  },
  {
   "cell_type": "markdown",
   "id": "d0b16af5",
   "metadata": {},
   "source": [
    "Eyeball the matched results. "
   ]
  },
  {
   "cell_type": "code",
   "execution_count": 24,
   "id": "a689185b",
   "metadata": {},
   "outputs": [
    {
     "data": {
      "text/html": [
       "<div>\n",
       "<style scoped>\n",
       "    .dataframe tbody tr th:only-of-type {\n",
       "        vertical-align: middle;\n",
       "    }\n",
       "\n",
       "    .dataframe tbody tr th {\n",
       "        vertical-align: top;\n",
       "    }\n",
       "\n",
       "    .dataframe thead th {\n",
       "        text-align: right;\n",
       "    }\n",
       "</style>\n",
       "<table border=\"1\" class=\"dataframe\">\n",
       "  <thead>\n",
       "    <tr style=\"text-align: right;\">\n",
       "      <th></th>\n",
       "      <th>companyname</th>\n",
       "      <th>companynumber</th>\n",
       "      <th>regaddresscounty</th>\n",
       "      <th>regaddresscountry</th>\n",
       "      <th>title_number</th>\n",
       "      <th>property_address</th>\n",
       "      <th>country_incorporated_1</th>\n",
       "    </tr>\n",
       "  </thead>\n",
       "  <tbody>\n",
       "    <tr>\n",
       "      <th>0</th>\n",
       "      <td>INDUSTRIALS UK TRUSTEE 1 LIMITED</td>\n",
       "      <td>OE002214</td>\n",
       "      <td></td>\n",
       "      <td>JERSEY</td>\n",
       "      <td>WSX302629</td>\n",
       "      <td>land at Cecil Pashley Way, Shoreham Brighton C...</td>\n",
       "      <td>JERSEY</td>\n",
       "    </tr>\n",
       "    <tr>\n",
       "      <th>1</th>\n",
       "      <td>ADRIATIC LAND 10 LIMITED</td>\n",
       "      <td>OE018421</td>\n",
       "      <td></td>\n",
       "      <td>GUERNSEY</td>\n",
       "      <td>WSX360764</td>\n",
       "      <td>Land on the south side of Upper Shoreham Road,...</td>\n",
       "      <td>GUERNSEY</td>\n",
       "    </tr>\n",
       "    <tr>\n",
       "      <th>2</th>\n",
       "      <td>MCDONALD'S GLOBAL MARKETS LLC</td>\n",
       "      <td>OE016227</td>\n",
       "      <td>DELAWARE</td>\n",
       "      <td>UNITED STATES</td>\n",
       "      <td>WSX177545</td>\n",
       "      <td>Restaurant premises at Tesco Store, Holmbush F...</td>\n",
       "      <td>DELAWARE, U.S.A.</td>\n",
       "    </tr>\n",
       "    <tr>\n",
       "      <th>3</th>\n",
       "      <td>COBSTONE PROPERTIES LIMITED</td>\n",
       "      <td>OE011061</td>\n",
       "      <td>ONCHAN</td>\n",
       "      <td>ISLE OF MAN</td>\n",
       "      <td>WSX63652</td>\n",
       "      <td>134 and 136 South Street, Lancing</td>\n",
       "      <td>ISLE OF MAN</td>\n",
       "    </tr>\n",
       "    <tr>\n",
       "      <th>4</th>\n",
       "      <td>COBSTONE PROPERTIES LIMITED</td>\n",
       "      <td>OE011061</td>\n",
       "      <td>ONCHAN</td>\n",
       "      <td>ISLE OF MAN</td>\n",
       "      <td>WSX71736</td>\n",
       "      <td>Land and buildings lying to the east of Cheste...</td>\n",
       "      <td>ISLE OF MAN</td>\n",
       "    </tr>\n",
       "  </tbody>\n",
       "</table>\n",
       "</div>"
      ],
      "text/plain": [
       "                        companyname companynumber regaddresscounty  \\\n",
       "0  INDUSTRIALS UK TRUSTEE 1 LIMITED      OE002214                    \n",
       "1          ADRIATIC LAND 10 LIMITED      OE018421                    \n",
       "2     MCDONALD'S GLOBAL MARKETS LLC      OE016227         DELAWARE   \n",
       "3       COBSTONE PROPERTIES LIMITED      OE011061           ONCHAN   \n",
       "4       COBSTONE PROPERTIES LIMITED      OE011061           ONCHAN   \n",
       "\n",
       "  regaddresscountry title_number  \\\n",
       "0            JERSEY    WSX302629   \n",
       "1          GUERNSEY    WSX360764   \n",
       "2     UNITED STATES    WSX177545   \n",
       "3       ISLE OF MAN     WSX63652   \n",
       "4       ISLE OF MAN     WSX71736   \n",
       "\n",
       "                                    property_address country_incorporated_1  \n",
       "0  land at Cecil Pashley Way, Shoreham Brighton C...                 JERSEY  \n",
       "1  Land on the south side of Upper Shoreham Road,...               GUERNSEY  \n",
       "2  Restaurant premises at Tesco Store, Holmbush F...       DELAWARE, U.S.A.  \n",
       "3                  134 and 136 South Street, Lancing            ISLE OF MAN  \n",
       "4  Land and buildings lying to the east of Cheste...            ISLE OF MAN  "
      ]
     },
     "execution_count": 24,
     "metadata": {},
     "output_type": "execute_result"
    }
   ],
   "source": [
    "cols = ['companyname', 'companynumber', 'regaddresscounty', 'regaddresscountry', \n",
    "        'title_number', 'property_address', 'country_incorporated_1']\n",
    "df_titles_joined.head()[cols]"
   ]
  },
  {
   "cell_type": "markdown",
   "id": "fd45943c",
   "metadata": {},
   "source": [
    "Now let's experiment with improving our crude first attempts at matching. How many titles with the same company name don't have a matching country name? About a quarter."
   ]
  },
  {
   "cell_type": "code",
   "execution_count": 25,
   "id": "ea866819",
   "metadata": {},
   "outputs": [
    {
     "data": {
      "text/plain": [
       "13857"
      ]
     },
     "execution_count": 25,
     "metadata": {},
     "output_type": "execute_result"
    }
   ],
   "source": [
    "query = \"regaddresscountry != country_incorporated_1 \"+ \\\n",
    "        \"& regaddresscounty != country_incorporated_1\"\n",
    "df_unmatched = df_titles_joined.query(query)\n",
    "len(df_unmatched)"
   ]
  },
  {
   "cell_type": "markdown",
   "id": "3ab50afc",
   "metadata": {},
   "source": [
    "Eyeballing the difference suggests that almost all the delta do match on country, just country identifiers are messy and incompatible between the two datasets. \n",
    "\n",
    "So there are probably some false matches in this, but not loads."
   ]
  },
  {
   "cell_type": "code",
   "execution_count": 38,
   "id": "505cf912",
   "metadata": {},
   "outputs": [
    {
     "data": {
      "text/html": [
       "<div>\n",
       "<style scoped>\n",
       "    .dataframe tbody tr th:only-of-type {\n",
       "        vertical-align: middle;\n",
       "    }\n",
       "\n",
       "    .dataframe tbody tr th {\n",
       "        vertical-align: top;\n",
       "    }\n",
       "\n",
       "    .dataframe thead th {\n",
       "        text-align: right;\n",
       "    }\n",
       "</style>\n",
       "<table border=\"1\" class=\"dataframe\">\n",
       "  <thead>\n",
       "    <tr style=\"text-align: right;\">\n",
       "      <th></th>\n",
       "      <th>companyname</th>\n",
       "      <th>companynumber</th>\n",
       "      <th>regaddresscounty</th>\n",
       "      <th>regaddresscountry</th>\n",
       "      <th>title_number</th>\n",
       "      <th>property_address</th>\n",
       "      <th>country_incorporated_1</th>\n",
       "    </tr>\n",
       "  </thead>\n",
       "  <tbody>\n",
       "    <tr>\n",
       "      <th>2</th>\n",
       "      <td>MCDONALD'S GLOBAL MARKETS LLC</td>\n",
       "      <td>OE016227</td>\n",
       "      <td>DELAWARE</td>\n",
       "      <td>UNITED STATES</td>\n",
       "      <td>WSX177545</td>\n",
       "      <td>Restaurant premises at Tesco Store, Holmbush F...</td>\n",
       "      <td>DELAWARE, U.S.A.</td>\n",
       "    </tr>\n",
       "    <tr>\n",
       "      <th>56</th>\n",
       "      <td>BNP PARIBAS DEPOSITARY SERVICES (JERSEY) LIMITED</td>\n",
       "      <td>OE000912</td>\n",
       "      <td></td>\n",
       "      <td>UNITED KINGDOM</td>\n",
       "      <td>SX160994</td>\n",
       "      <td>Angmering Medical Centre, Station Road, Angmer...</td>\n",
       "      <td>JERSEY</td>\n",
       "    </tr>\n",
       "    <tr>\n",
       "      <th>68</th>\n",
       "      <td>EASTLIGHT INVESTMENTS LIMITED</td>\n",
       "      <td>OE005719</td>\n",
       "      <td></td>\n",
       "      <td>GIBRALTAR</td>\n",
       "      <td>WSX221902</td>\n",
       "      <td>66 High Street, Littlehampton (BN17 5EA)</td>\n",
       "      <td>JERSEY</td>\n",
       "    </tr>\n",
       "    <tr>\n",
       "      <th>71</th>\n",
       "      <td>AMAZON PROPERTIES LIMITED</td>\n",
       "      <td>OE003085</td>\n",
       "      <td></td>\n",
       "      <td>BERMUDA</td>\n",
       "      <td>WSX332981</td>\n",
       "      <td>10 Beach Road, Littlehampton (BN17 5HT)</td>\n",
       "      <td>ISLE OF MAN</td>\n",
       "    </tr>\n",
       "    <tr>\n",
       "      <th>90</th>\n",
       "      <td>HELIX PROPERTY LIMITED</td>\n",
       "      <td>OE004506</td>\n",
       "      <td></td>\n",
       "      <td></td>\n",
       "      <td>WSX396739</td>\n",
       "      <td>Bizspace, Courtwick Lane, Wick, Littlehampton ...</td>\n",
       "      <td>JERSEY</td>\n",
       "    </tr>\n",
       "  </tbody>\n",
       "</table>\n",
       "</div>"
      ],
      "text/plain": [
       "                                         companyname companynumber  \\\n",
       "2                      MCDONALD'S GLOBAL MARKETS LLC      OE016227   \n",
       "56  BNP PARIBAS DEPOSITARY SERVICES (JERSEY) LIMITED      OE000912   \n",
       "68                     EASTLIGHT INVESTMENTS LIMITED      OE005719   \n",
       "71                         AMAZON PROPERTIES LIMITED      OE003085   \n",
       "90                            HELIX PROPERTY LIMITED      OE004506   \n",
       "\n",
       "   regaddresscounty regaddresscountry title_number  \\\n",
       "2          DELAWARE     UNITED STATES    WSX177545   \n",
       "56                     UNITED KINGDOM     SX160994   \n",
       "68                          GIBRALTAR    WSX221902   \n",
       "71                            BERMUDA    WSX332981   \n",
       "90                                       WSX396739   \n",
       "\n",
       "                                     property_address country_incorporated_1  \n",
       "2   Restaurant premises at Tesco Store, Holmbush F...       DELAWARE, U.S.A.  \n",
       "56  Angmering Medical Centre, Station Road, Angmer...                 JERSEY  \n",
       "68           66 High Street, Littlehampton (BN17 5EA)                 JERSEY  \n",
       "71            10 Beach Road, Littlehampton (BN17 5HT)            ISLE OF MAN  \n",
       "90  Bizspace, Courtwick Lane, Wick, Littlehampton ...                 JERSEY  "
      ]
     },
     "execution_count": 38,
     "metadata": {},
     "output_type": "execute_result"
    }
   ],
   "source": [
    "df_unmatched.head()[cols]"
   ]
  },
  {
   "cell_type": "markdown",
   "id": "86eff537",
   "metadata": {},
   "source": [
    "Fix the most obvious problems and re-run. "
   ]
  },
  {
   "cell_type": "code",
   "execution_count": 29,
   "id": "58051ce8",
   "metadata": {},
   "outputs": [
    {
     "data": {
      "text/plain": [
       "3182"
      ]
     },
     "execution_count": 29,
     "metadata": {},
     "output_type": "execute_result"
    }
   ],
   "source": [
    "df_titles_joined.regaddresscountry = \\\n",
    "    df_titles_joined.regaddresscountry.str.\\\n",
    "    replace(\"VIRGIN ISLANDS, BRITISH\", \"BRITISH VIRGIN ISLANDS\")\n",
    "df_titles_joined.regaddresscountry = \\\n",
    "    df_titles_joined.regaddresscountry.str.replace(\"SAINT \", \"ST \")\n",
    "df_unmatched = df_titles_joined.query(query)\n",
    "len(df_unmatched)"
   ]
  },
  {
   "cell_type": "markdown",
   "id": "030db5dd",
   "metadata": {},
   "source": [
    "We could probably reduce this number quite a bit by just dealing with the most common companies that are obvious matches, but have just stated different countries on the two datasets."
   ]
  },
  {
   "cell_type": "code",
   "execution_count": 33,
   "id": "49209952",
   "metadata": {},
   "outputs": [
    {
     "data": {
      "text/plain": [
       "BNP PARIBAS DEPOSITARY SERVICES (JERSEY) LIMITED    452\n",
       "CASTLE NEW TOWER HOLDINGS LIMITED                   279\n",
       "REDWOOD (LIGHT INDUSTRIAL) PROPCO S.A.R.L.          109\n",
       "HELIX PROPERTY LIMITED                              108\n",
       "ALDGATE PROPERTY LIMITED                             61\n",
       "                                                   ... \n",
       "JAMAR CREATIVE LIMITED                                1\n",
       "MAY LIMITED                                           1\n",
       "WHENUAPAI LIMITED                                     1\n",
       "GREEN CRESCENT ENTERPRISES LIMITED                    1\n",
       "TEATIME REALTY LLC                                    1\n",
       "Name: companyname, Length: 798, dtype: int64"
      ]
     },
     "execution_count": 33,
     "metadata": {},
     "output_type": "execute_result"
    }
   ],
   "source": [
    "df_unmatched.companyname.value_counts()"
   ]
  },
  {
   "cell_type": "markdown",
   "id": "91795717",
   "metadata": {},
   "source": [
    "TODO: Map jurisdictions in both datasets to ISO codes and match on those."
   ]
  },
  {
   "cell_type": "markdown",
   "id": "dd7fd600",
   "metadata": {},
   "source": [
    "## How many of our ROE entries have we been able to find titles for?"
   ]
  },
  {
   "cell_type": "markdown",
   "id": "86d8f9cb",
   "metadata": {},
   "source": [
    "In these matched titles, we have 13,311 unique company names - so about two-thirds of all the ROE companies in the basic data. \n",
    "\n",
    "This means we have failed to find related titles for at least a third of the companies, but many of them will be Scottish or Northern Irish titles, which aren't in the OCOD dataset. (Thanks to TIUK for pointing that out!)"
   ]
  },
  {
   "cell_type": "code",
   "execution_count": null,
   "id": "14a16ede",
   "metadata": {},
   "outputs": [],
   "source": [
    "df_titles_joined.companynumber.nunique()"
   ]
  },
  {
   "cell_type": "markdown",
   "id": "e766cefa",
   "metadata": {},
   "source": [
    "## Join ROE companies with PSC information and related OCOD titles\n",
    "\n",
    "Get a list of titles per PSC with any related company and OCOD information that we can match, and save to a file.\n",
    "\n",
    "Note that the country names haven't been normalised, so matches should be checked manually."
   ]
  },
  {
   "cell_type": "code",
   "execution_count": 30,
   "id": "588e6815",
   "metadata": {},
   "outputs": [],
   "source": [
    "sql = \"\"\"\n",
    "SELECT\n",
    "  companies.*, ocod.*, pscs.*\n",
    "-- First get all the OE companies with their PSCs.\n",
    "FROM\n",
    "  `%s.%s` AS companies\n",
    "INNER JOIN\n",
    "  `%s.%s` AS pscs\n",
    "ON\n",
    "  companies.companynumber=pscs.company_number\n",
    "-- Then get any matching titles. \n",
    "LEFT JOIN\n",
    "  `%s.%s` AS ocod\n",
    "ON\n",
    "  ocod.proprietor_name_1=companies.companyname\n",
    "WHERE\n",
    "  companies.companynumber LIKE 'OE%%'\n",
    "\"\"\" % (PROJECT_ID, CH_BASIC_TABLE, PROJECT_ID, CH_PSCS_TABLE, PROJECT_ID, OCOD_TABLE)"
   ]
  },
  {
   "cell_type": "code",
   "execution_count": 31,
   "id": "9d94d300",
   "metadata": {},
   "outputs": [
    {
     "data": {
      "text/plain": [
       "230895"
      ]
     },
     "execution_count": 31,
     "metadata": {},
     "output_type": "execute_result"
    }
   ],
   "source": [
    "df_pscs_with_companies = pandas_gbq.read_gbq(sql,\\\n",
    "        project_id=PROJECT_ID, progress_bar_type=None)\n",
    "len(df_pscs_with_companies)"
   ]
  },
  {
   "cell_type": "code",
   "execution_count": 32,
   "id": "e76d0259",
   "metadata": {},
   "outputs": [],
   "source": [
    "df_pscs_with_companies.\\\n",
    "    to_csv(\"./data/roe_pscs_with_companies_and_any_matched_titles.csv\", index=False)"
   ]
  },
  {
   "cell_type": "code",
   "execution_count": null,
   "id": "8f2ba3f1",
   "metadata": {},
   "outputs": [],
   "source": []
  },
  {
   "cell_type": "code",
   "execution_count": null,
   "id": "6db32d32",
   "metadata": {},
   "outputs": [],
   "source": []
  }
 ],
 "metadata": {
  "kernelspec": {
   "display_name": "Python 3 (ipykernel)",
   "language": "python",
   "name": "python3"
  },
  "language_info": {
   "codemirror_mode": {
    "name": "ipython",
    "version": 3
   },
   "file_extension": ".py",
   "mimetype": "text/x-python",
   "name": "python",
   "nbconvert_exporter": "python",
   "pygments_lexer": "ipython3",
   "version": "3.9.6"
  }
 },
 "nbformat": 4,
 "nbformat_minor": 5
}
